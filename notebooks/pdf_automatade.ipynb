{
 "cells": [
  {
   "cell_type": "code",
   "execution_count": 58,
   "id": "9130266a",
   "metadata": {},
   "outputs": [],
   "source": [
    "from fpdf import FPDF\n",
    "\n",
    "pdf = FPDF('P', 'mm', 'A4')\n",
    "pdf.add_page()\n",
    "pdf.set_font('Arial', 'B', 16)\n",
    "pdf.cell(40, 10, 'Hello World!')\n",
    "pdf.cell(40, 20, 'Machine Learning Report!')\n",
    "# pdf.image(\"./tmp/deaths.png\", WIDTH/2, 200, WIDTH/2-10)\n"
   ]
  },
  {
   "cell_type": "code",
   "execution_count": 59,
   "id": "5b6a0f43",
   "metadata": {},
   "outputs": [],
   "source": [
    "pdf.image('../images/head.png', 0 ,0, WIDTH-0)"
   ]
  },
  {
   "cell_type": "code",
   "execution_count": 60,
   "id": "8d600c50",
   "metadata": {},
   "outputs": [],
   "source": [
    "pdf.image('../images/logo_rossmann.jpg', 150 ,30, WIDTH-100)"
   ]
  },
  {
   "cell_type": "code",
   "execution_count": 61,
   "id": "6aa11e47",
   "metadata": {},
   "outputs": [],
   "source": [
    "pdf.image('../images/xgb_fi.png', 5 ,15, WIDTH-15)"
   ]
  },
  {
   "cell_type": "code",
   "execution_count": null,
   "id": "9cec14cc",
   "metadata": {},
   "outputs": [],
   "source": []
  },
  {
   "cell_type": "code",
   "execution_count": null,
   "id": "3af28a3e",
   "metadata": {},
   "outputs": [],
   "source": []
  },
  {
   "cell_type": "code",
   "execution_count": 62,
   "id": "b69431e2",
   "metadata": {},
   "outputs": [
    {
     "data": {
      "text/plain": [
       "''"
      ]
     },
     "execution_count": 62,
     "metadata": {},
     "output_type": "execute_result"
    }
   ],
   "source": [
    "pdf.output('model_performace.pdf', 'F')"
   ]
  },
  {
   "cell_type": "code",
   "execution_count": null,
   "id": "3dfac677",
   "metadata": {},
   "outputs": [],
   "source": []
  },
  {
   "cell_type": "code",
   "execution_count": 13,
   "id": "54138add",
   "metadata": {},
   "outputs": [
    {
     "ename": "PermissionError",
     "evalue": "[Errno 13] Permission denied: 'model_performace.pdf'",
     "output_type": "error",
     "traceback": [
      "\u001b[1;31m---------------------------------------------------------------------------\u001b[0m",
      "\u001b[1;31mPermissionError\u001b[0m                           Traceback (most recent call last)",
      "\u001b[1;32m~\\AppData\\Local\\Temp/ipykernel_16232/2834619617.py\u001b[0m in \u001b[0;36m<module>\u001b[1;34m\u001b[0m\n\u001b[0;32m     33\u001b[0m \u001b[1;31m# pdf.image(\"./tmp/cases.png\", 5, 200, WIDTH/2-10)\u001b[0m\u001b[1;33m\u001b[0m\u001b[1;33m\u001b[0m\u001b[0m\n\u001b[0;32m     34\u001b[0m \u001b[1;31m# pdf.image(\"./tmp/deaths.png\", WIDTH/2, 200, WIDTH/2-10)\u001b[0m\u001b[1;33m\u001b[0m\u001b[1;33m\u001b[0m\u001b[0m\n\u001b[1;32m---> 35\u001b[1;33m \u001b[0mpdf\u001b[0m\u001b[1;33m.\u001b[0m\u001b[0moutput\u001b[0m\u001b[1;33m(\u001b[0m\u001b[1;34m'model_performace.pdf'\u001b[0m\u001b[1;33m,\u001b[0m \u001b[1;34m'F'\u001b[0m\u001b[1;33m)\u001b[0m\u001b[1;33m\u001b[0m\u001b[1;33m\u001b[0m\u001b[0m\n\u001b[0m",
      "\u001b[1;32m~\\anaconda3\\lib\\site-packages\\fpdf\\fpdf.py\u001b[0m in \u001b[0;36moutput\u001b[1;34m(self, name, dest)\u001b[0m\n\u001b[0;32m   1077\u001b[0m         \u001b[1;32melif\u001b[0m \u001b[0mdest\u001b[0m\u001b[1;33m==\u001b[0m\u001b[1;34m'F'\u001b[0m\u001b[1;33m:\u001b[0m\u001b[1;33m\u001b[0m\u001b[1;33m\u001b[0m\u001b[0m\n\u001b[0;32m   1078\u001b[0m             \u001b[1;31m#Save to local file\u001b[0m\u001b[1;33m\u001b[0m\u001b[1;33m\u001b[0m\u001b[0m\n\u001b[1;32m-> 1079\u001b[1;33m             \u001b[0mf\u001b[0m\u001b[1;33m=\u001b[0m\u001b[0mopen\u001b[0m\u001b[1;33m(\u001b[0m\u001b[0mname\u001b[0m\u001b[1;33m,\u001b[0m\u001b[1;34m'wb'\u001b[0m\u001b[1;33m)\u001b[0m\u001b[1;33m\u001b[0m\u001b[1;33m\u001b[0m\u001b[0m\n\u001b[0m\u001b[0;32m   1080\u001b[0m             \u001b[1;32mif\u001b[0m\u001b[1;33m(\u001b[0m\u001b[1;32mnot\u001b[0m \u001b[0mf\u001b[0m\u001b[1;33m)\u001b[0m\u001b[1;33m:\u001b[0m\u001b[1;33m\u001b[0m\u001b[1;33m\u001b[0m\u001b[0m\n\u001b[0;32m   1081\u001b[0m                 \u001b[0mself\u001b[0m\u001b[1;33m.\u001b[0m\u001b[0merror\u001b[0m\u001b[1;33m(\u001b[0m\u001b[1;34m'Unable to create output file: '\u001b[0m\u001b[1;33m+\u001b[0m\u001b[0mname\u001b[0m\u001b[1;33m)\u001b[0m\u001b[1;33m\u001b[0m\u001b[1;33m\u001b[0m\u001b[0m\n",
      "\u001b[1;31mPermissionError\u001b[0m: [Errno 13] Permission denied: 'model_performace.pdf'"
     ]
    }
   ],
   "source": [
    "# WIDTH = 210\n",
    "# HEIGHT = 297\n",
    "\n",
    "# TEST_DATE = \"10/20/20\"\n",
    "\n",
    "# day = 5\n",
    "\n",
    "\n",
    "#   # Unicode is not yet supported in the py3k version; use windows-1252 standard font\n",
    "# pdf.set_font('Arial', '', 24)  \n",
    "# pdf.ln(60)\n",
    "# pdf.write(5, f\"Covid Analytics Report\")\n",
    "# pdf.ln(10)\n",
    "# pdf.set_font('Arial', '', 16)\n",
    "# pdf.write(4, f'{day}')\n",
    "# pdf.ln(5)\n",
    "\n",
    "\n",
    "\n",
    "# states = ['Massachusetts', 'New Hampshire']\n",
    "\n",
    "# ''' First Page '''\n",
    "# pdf.add_page()\n",
    "# pdf.image(\"/Users/Alysson/Documents/Projects/Rossmann-Sales-Forecast/images/mind_map.png\", 0, 0, WIDTH)\n",
    "\n",
    "\n",
    "# # plot_usa_case_map(\"./tmp/usa_cases.png\", day=day)\n",
    "# # prev_days = 250\n",
    "# # plot_states(states, days=prev_days, filename=\"./tmp/cases.png\", end_date=day)\n",
    "# # plot_states(states, days=prev_days, mode=Mode.DEATHS, filename=\"./tmp/deaths.png\", end_date=day)\n",
    "\n",
    "# # pdf.image(\"./tmp/usa_cases.png\", 5, 90, WIDTH-20)\n",
    "# # pdf.image(\"./tmp/cases.png\", 5, 200, WIDTH/2-10)\n"
   ]
  },
  {
   "cell_type": "code",
   "execution_count": null,
   "id": "c778b89d",
   "metadata": {},
   "outputs": [],
   "source": []
  }
 ],
 "metadata": {
  "kernelspec": {
   "display_name": "Python 3 (ipykernel)",
   "language": "python",
   "name": "python3"
  },
  "language_info": {
   "codemirror_mode": {
    "name": "ipython",
    "version": 3
   },
   "file_extension": ".py",
   "mimetype": "text/x-python",
   "name": "python",
   "nbconvert_exporter": "python",
   "pygments_lexer": "ipython3",
   "version": "3.9.7"
  }
 },
 "nbformat": 4,
 "nbformat_minor": 5
}
