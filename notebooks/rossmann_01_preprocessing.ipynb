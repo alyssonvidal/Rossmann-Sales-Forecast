{
 "cells": [
  {
   "cell_type": "code",
   "execution_count": 12,
   "id": "508fc40e",
   "metadata": {
    "hide_input": false
   },
   "outputs": [],
   "source": [
    "import numpy as np\n",
    "import pandas as pd\n",
    "from datetime import datetime, date\n",
    "import inflection"
   ]
  },
  {
   "cell_type": "markdown",
   "id": "530112e2",
   "metadata": {},
   "source": [
    "# Data Preprossesing"
   ]
  },
  {
   "cell_type": "markdown",
   "id": "dc34b5aa",
   "metadata": {},
   "source": [
    "### Loading Data"
   ]
  },
  {
   "cell_type": "code",
   "execution_count": 13,
   "id": "de409b58",
   "metadata": {},
   "outputs": [],
   "source": [
    "data_train_raw = pd.read_csv( '../data/raw/train.csv', low_memory=False)\n",
    "data_test_raw = pd.read_csv( '../data/raw/test.csv', low_memory=False)\n",
    "data_store_raw = pd.read_csv( '../data/raw/store.csv', low_memory=False)"
   ]
  },
  {
   "cell_type": "code",
   "execution_count": 14,
   "id": "8854798b",
   "metadata": {},
   "outputs": [
    {
     "data": {
      "text/plain": [
       "((1017209, 9), (41088, 8), (1115, 10))"
      ]
     },
     "execution_count": 14,
     "metadata": {},
     "output_type": "execute_result"
    }
   ],
   "source": [
    "data_train_raw.shape, data_test_raw.shape, data_store_raw.shape"
   ]
  },
  {
   "cell_type": "code",
   "execution_count": 15,
   "id": "174f058a",
   "metadata": {},
   "outputs": [],
   "source": [
    "data_train_raw = pd.merge( data_train_raw, data_store_raw, how='left', on='Store')"
   ]
  },
  {
   "cell_type": "code",
   "execution_count": 16,
   "id": "93e4b9d5",
   "metadata": {},
   "outputs": [],
   "source": [
    "data = data_train_raw.copy()"
   ]
  },
  {
   "cell_type": "markdown",
   "id": "ae5649ca",
   "metadata": {},
   "source": [
    "### Rename Columns"
   ]
  },
  {
   "cell_type": "code",
   "execution_count": 17,
   "id": "70b4cb39",
   "metadata": {},
   "outputs": [],
   "source": [
    "snakecase = lambda x: inflection.underscore(x)\n",
    "cols_new = list(map( snakecase, data.columns))\n",
    "data.columns = cols_new"
   ]
  },
  {
   "cell_type": "markdown",
   "id": "c38e5286",
   "metadata": {},
   "source": [
    "### Dealing with missing values"
   ]
  },
  {
   "cell_type": "code",
   "execution_count": 18,
   "id": "004366e7",
   "metadata": {},
   "outputs": [
    {
     "data": {
      "text/plain": [
       "store                                0\n",
       "day_of_week                          0\n",
       "date                                 0\n",
       "sales                                0\n",
       "customers                            0\n",
       "open                                 0\n",
       "promo                                0\n",
       "state_holiday                        0\n",
       "school_holiday                       0\n",
       "store_type                           0\n",
       "assortment                           0\n",
       "competition_distance              2642\n",
       "competition_open_since_month    323348\n",
       "competition_open_since_year     323348\n",
       "promo2                               0\n",
       "promo2_since_week               508031\n",
       "promo2_since_year               508031\n",
       "promo_interval                  508031\n",
       "dtype: int64"
      ]
     },
     "execution_count": 18,
     "metadata": {},
     "output_type": "execute_result"
    }
   ],
   "source": [
    "data.isna().sum()"
   ]
  },
  {
   "cell_type": "code",
   "execution_count": 19,
   "id": "40226ee6",
   "metadata": {},
   "outputs": [],
   "source": [
    "#There are several ways to handle missing data. In the case of competition_distance, a high value equivalent to the \n",
    "#third quartile was assigned, since not filling this field suggests a lack of knowledge of nearby competitors. \n",
    "#In the case of competition time, the median is a safer guess. As for the time of promo2, the missing data mostly \n",
    "#indicates that they are really null.\n",
    "\n",
    "data[['competition_open_since_month','competition_open_since_year']] = data[['competition_open_since_month', 'competition_open_since_year']].fillna(data[['competition_open_since_month', 'competition_open_since_year']].median())\n",
    "data['competition_distance'] = data['competition_distance'].fillna(7000)                          \n",
    "data= data.fillna(0)"
   ]
  },
  {
   "cell_type": "code",
   "execution_count": 20,
   "id": "8fce331b",
   "metadata": {},
   "outputs": [],
   "source": [
    "data['date'] = pd.to_datetime(data['date'])"
   ]
  },
  {
   "cell_type": "markdown",
   "id": "0ed0f3df",
   "metadata": {},
   "source": [
    "## Feature Engineering"
   ]
  },
  {
   "cell_type": "code",
   "execution_count": 21,
   "id": "70ecb1e2",
   "metadata": {},
   "outputs": [],
   "source": [
    "data['day'] = data['date'].dt.day\n",
    "data['month'] = data['date'].dt.month\n",
    "data['year'] = data['date'].dt.year\n",
    "data['day_of_year'] = data['date'].dt.dayofyear"
   ]
  },
  {
   "cell_type": "code",
   "execution_count": 22,
   "id": "e5bbf267",
   "metadata": {},
   "outputs": [],
   "source": [
    "# Calculates the time the competitor has been open in months\n",
    "data['competition_open_since'] = 12 * (data['date'].dt.year - data['competition_open_since_year']) + (data['date'].dt.month - data['competition_open_since_month'])\n",
    "data['competition_open_since'] = data['competition_open_since'].apply(lambda x: x if x > 0 else 0)"
   ]
  },
  {
   "cell_type": "code",
   "execution_count": 23,
   "id": "e983f405",
   "metadata": {},
   "outputs": [],
   "source": [
    "# calculate promo2 open time in weeks\n",
    "data['promo_open_since'] = 12 * (data['date'].dt.year - data.promo2_since_year) + (data['date'].dt.isocalendar().week - data.promo2_since_week) / 4.0\n",
    "data['promo_open_since'] = data['promo_open_since'].apply(lambda x: x if x > 0 else 0)"
   ]
  },
  {
   "cell_type": "markdown",
   "id": "c3b27429",
   "metadata": {},
   "source": [
    "### Rename Row values"
   ]
  },
  {
   "cell_type": "code",
   "execution_count": 24,
   "id": "f73f5a5b",
   "metadata": {},
   "outputs": [],
   "source": [
    "month_map = {1: 'Jan', 2: 'Feb', 3: 'Mar', 4: 'Apr', 5: 'May', 6: 'Jun', 7: 'Jul', 8: 'Aug', 9: 'Sept', 10: 'Oct', 11: 'Nov', 12: 'Dec'}\n",
    "data['month_map'] = data['date'].dt.month.map(month_map)\n",
    "\n",
    "#Analise se está em promoção ou não com base nos meses de promoção\n",
    "data['is_promo_month'] =data[['promo_interval','month_map']].apply(lambda x: 0 if x['promo_interval'] == 0 \\\n",
    "                                                             else 1 if x['month_map'] in x['promo_interval'].split(',') \\\n",
    "                                                             else 0, axis=1)"
   ]
  },
  {
   "cell_type": "code",
   "execution_count": 26,
   "id": "a3220cb0",
   "metadata": {},
   "outputs": [],
   "source": [
    "data=data.drop(['month_map'], axis=1)"
   ]
  },
  {
   "cell_type": "markdown",
   "id": "66029f68",
   "metadata": {},
   "source": [
    "### Dealing with miss inputation value"
   ]
  },
  {
   "cell_type": "code",
   "execution_count": 25,
   "id": "8c85b51b",
   "metadata": {},
   "outputs": [],
   "source": [
    "# Over 1115 stores, store \"262\" was the only one that was considering that Easter is not a school holiday, I assume this is a mistake\n",
    "data.loc[(data['school_holiday']==0) & (data['state_holiday']=='b'), 'school_holiday'] = 1"
   ]
  },
  {
   "cell_type": "markdown",
   "id": "43a1dd92",
   "metadata": {},
   "source": [
    "### Fixing Data Types"
   ]
  },
  {
   "cell_type": "code",
   "execution_count": 27,
   "id": "40caf305",
   "metadata": {},
   "outputs": [],
   "source": [
    "data = data.astype({\"store\": 'int32', \n",
    "                    \"day_of_week\": 'int8',\n",
    "                    \"customers\": 'int32',\n",
    "                    \"open\": 'int8',\n",
    "                    \"promo\": 'int8',\n",
    "                    \"state_holiday\": 'category',\n",
    "                    \"school_holiday\": 'int8',\n",
    "                    \"store_type\": 'category',\n",
    "                    \"assortment\": 'category', \n",
    "                    \"competition_distance\": 'int32',\n",
    "                    \"competition_open_since_month\": 'int32',\n",
    "                    \"competition_open_since_year\": 'int32',\n",
    "                    \"promo2\": 'int8',\n",
    "                    \"promo2_since_week\": 'int32',\n",
    "                    \"promo2_since_year\": 'int32',\n",
    "                    \"day\": 'int8', \n",
    "                    \"month\": 'int32', \n",
    "                    \"year\": 'int32',\n",
    "                    \"day_of_year\": 'int32',\n",
    "                    \"competition_open_since\": 'int32',\n",
    "                    \"promo_open_since\": 'int32',\n",
    "                    \"is_promo_month\" : 'int8'\n",
    "                   })\n",
    "\n",
    "# This step reduce memory usage from 162MB to 66.9MB"
   ]
  },
  {
   "cell_type": "code",
   "execution_count": 28,
   "id": "93717b9b",
   "metadata": {},
   "outputs": [
    {
     "name": "stdout",
     "output_type": "stream",
     "text": [
      "<class 'pandas.core.frame.DataFrame'>\n",
      "Int64Index: 1017209 entries, 0 to 1017208\n",
      "Data columns (total 25 columns):\n",
      " #   Column                        Non-Null Count    Dtype         \n",
      "---  ------                        --------------    -----         \n",
      " 0   store                         1017209 non-null  int32         \n",
      " 1   day_of_week                   1017209 non-null  int8          \n",
      " 2   date                          1017209 non-null  datetime64[ns]\n",
      " 3   sales                         1017209 non-null  int64         \n",
      " 4   customers                     1017209 non-null  int32         \n",
      " 5   open                          1017209 non-null  int8          \n",
      " 6   promo                         1017209 non-null  int8          \n",
      " 7   state_holiday                 1017209 non-null  category      \n",
      " 8   school_holiday                1017209 non-null  int8          \n",
      " 9   store_type                    1017209 non-null  category      \n",
      " 10  assortment                    1017209 non-null  category      \n",
      " 11  competition_distance          1017209 non-null  int32         \n",
      " 12  competition_open_since_month  1017209 non-null  int32         \n",
      " 13  competition_open_since_year   1017209 non-null  int32         \n",
      " 14  promo2                        1017209 non-null  int8          \n",
      " 15  promo2_since_week             1017209 non-null  int32         \n",
      " 16  promo2_since_year             1017209 non-null  int32         \n",
      " 17  promo_interval                1017209 non-null  object        \n",
      " 18  day                           1017209 non-null  int8          \n",
      " 19  month                         1017209 non-null  int32         \n",
      " 20  year                          1017209 non-null  int32         \n",
      " 21  day_of_year                   1017209 non-null  int32         \n",
      " 22  competition_open_since        1017209 non-null  int32         \n",
      " 23  promo_open_since              1017209 non-null  int32         \n",
      " 24  is_promo_month                1017209 non-null  int8          \n",
      "dtypes: category(3), datetime64[ns](1), int32(12), int64(1), int8(7), object(1)\n",
      "memory usage: 87.3+ MB\n"
     ]
    }
   ],
   "source": [
    "data.info()"
   ]
  }
 ],
 "metadata": {
  "kernelspec": {
   "display_name": "Python 3 (ipykernel)",
   "language": "python",
   "name": "python3"
  },
  "language_info": {
   "codemirror_mode": {
    "name": "ipython",
    "version": 3
   },
   "file_extension": ".py",
   "mimetype": "text/x-python",
   "name": "python",
   "nbconvert_exporter": "python",
   "pygments_lexer": "ipython3",
   "version": "3.9.7"
  }
 },
 "nbformat": 4,
 "nbformat_minor": 5
}
