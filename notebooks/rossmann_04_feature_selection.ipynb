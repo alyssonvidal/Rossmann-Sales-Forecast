{
 "cells": [
  {
   "cell_type": "code",
   "execution_count": null,
   "id": "0ea5c529",
   "metadata": {},
   "outputs": [],
   "source": [
    "# Feature Selection\n",
    "\n",
    "* Filter Methods (Seleção Univariada)\n",
    "* Embedded Methods (Seleção por importancia)\n",
    "* Wrapper Methods (Seleção por subset)\n"
   ]
  },
  {
   "cell_type": "code",
   "execution_count": null,
   "id": "f8e97c97",
   "metadata": {},
   "outputs": [],
   "source": [
    "mask = np.zeros_like(data_prep[selected_features].corr(), dtype=bool) \n",
    "mask[np.triu_indices_from(mask)] = True \n",
    "\n",
    "f, ax = plt.subplots(figsize=(20, 14))\n",
    "\n",
    "plt.title('Pearson Correlation Matrix',fontsize=25)\n",
    "\n",
    "sns.heatmap(data_prep[selected_features].corr(),linewidths=0.25,fmt=\".2f\", cmap=\"Blues\", linecolor='w',annot=True,annot_kws={\"size\":9},mask=mask,cbar_kws={\"shrink\": .9});"
   ]
  },
  {
   "cell_type": "code",
   "execution_count": null,
   "id": "2b357cab",
   "metadata": {},
   "outputs": [],
   "source": [
    "data_prep[selected_features].corr()['sales'].abs().sort_values(ascending = False)"
   ]
  },
  {
   "cell_type": "code",
   "execution_count": null,
   "id": "d0e15807",
   "metadata": {},
   "outputs": [],
   "source": [
    "### Embedded Method"
   ]
  },
  {
   "cell_type": "code",
   "execution_count": null,
   "id": "46628b68",
   "metadata": {},
   "outputs": [],
   "source": [
    "### Random Forest\n",
    "fig, ax = plt.subplots(figsize=(10,10))\n",
    "feat_importances = pd.Series(rf.feature_importances_, index=X_train.columns)\n",
    "feat_importances.nlargest(10).sort_values(ascending = True).plot(kind='barh')\n",
    "plt.xlabel('importance')\n",
    "plt.title('Feature Importance')"
   ]
  },
  {
   "cell_type": "code",
   "execution_count": null,
   "id": "dbc1e088",
   "metadata": {},
   "outputs": [],
   "source": [
    "fig, ax = plt.subplots(figsize=(10,10))\n",
    "sorted_idx = rf.feature_importances_.argsort()\n",
    "plt.barh(X_train.columns[sorted_idx], rf.feature_importances_[sorted_idx])#max_num_features=50, height=0.8\n",
    "\n",
    "plt.xlabel(\"Random Forest Feature Importance\")"
   ]
  },
  {
   "cell_type": "code",
   "execution_count": null,
   "id": "254557bc",
   "metadata": {},
   "outputs": [],
   "source": [
    "fig, ax = plt.subplots(figsize=(10,10))\n",
    "sorted_idx = xgb.feature_importances_.argsort()\n",
    "plt.barh(X_train.columns[sorted_idx], xgb.feature_importances_[sorted_idx])#max_num_features=50, height=0.8\n",
    "\n",
    "plt.xlabel(\"Xgboost Feature Importance\")"
   ]
  },
  {
   "cell_type": "code",
   "execution_count": null,
   "id": "d8aad7b6",
   "metadata": {},
   "outputs": [],
   "source": [
    "### Wrapper Method"
   ]
  },
  {
   "cell_type": "code",
   "execution_count": null,
   "id": "fd02e484",
   "metadata": {},
   "outputs": [],
   "source": [
    "feature_names = np.array(X_train.columns)\n",
    "\n",
    "y_train_n = train[target].values\n",
    "X_train_n = train[selected_features].values\n",
    "\n",
    "feat_selector = BorutaPy( xgb, n_estimators='auto', verbose=2, random_state=42 ).fit( X_train_n, y_train_n)"
   ]
  },
  {
   "cell_type": "code",
   "execution_count": null,
   "id": "acbffc73",
   "metadata": {},
   "outputs": [],
   "source": [
    "feature_ranks = list(zip(feature_names, \n",
    "                         feat_selector.ranking_, \n",
    "                         feat_selector.support_))"
   ]
  },
  {
   "cell_type": "code",
   "execution_count": null,
   "id": "bdb63c43",
   "metadata": {},
   "outputs": [],
   "source": [
    "feature_ranks"
   ]
  },
  {
   "cell_type": "code",
   "execution_count": null,
   "id": "0e48f9ff",
   "metadata": {},
   "outputs": [],
   "source": [
    "importance_df = pd.DataFrame({\n",
    "    'feature': X.columns,\n",
    "    'importance': model.feature_importances_\n",
    "}).sort_values('importance', ascending=False)"
   ]
  },
  {
   "cell_type": "code",
   "execution_count": null,
   "id": "3eb7e503",
   "metadata": {},
   "outputs": [],
   "source": []
  },
  {
   "cell_type": "code",
   "execution_count": null,
   "id": "f4b3bb17",
   "metadata": {},
   "outputs": [],
   "source": []
  },
  {
   "cell_type": "code",
   "execution_count": null,
   "id": "3abfe827",
   "metadata": {},
   "outputs": [],
   "source": []
  }
 ],
 "metadata": {
  "kernelspec": {
   "display_name": "Python 3 (ipykernel)",
   "language": "python",
   "name": "python3"
  },
  "language_info": {
   "codemirror_mode": {
    "name": "ipython",
    "version": 3
   },
   "file_extension": ".py",
   "mimetype": "text/x-python",
   "name": "python",
   "nbconvert_exporter": "python",
   "pygments_lexer": "ipython3",
   "version": "3.9.7"
  }
 },
 "nbformat": 4,
 "nbformat_minor": 5
}
